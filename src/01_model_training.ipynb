{
 "cells": [
  {
   "cell_type": "code",
   "execution_count": null,
   "metadata": {},
   "outputs": [],
   "source": [
    "import utils as utils\n",
    "import pickle\n",
    "from model import ERecogClassifier\n",
    "\n",
    "import os\n",
    "\n",
    "import numpy as np\n",
    "\n",
    "import torch\n",
    "import torch.nn as nn\n",
    "import torch.optim as optim"
   ]
  },
  {
   "cell_type": "code",
   "execution_count": null,
   "metadata": {},
   "outputs": [],
   "source": [
    "num_classes = 6\n",
    "model = ERecogClassifier(num_classes=num_classes)\n",
    "optimizer = optim.Adam(model.parameters(), lr=5e-4)\n",
    "criterion = nn.CrossEntropyLoss()"
   ]
  },
  {
   "cell_type": "code",
   "execution_count": null,
   "metadata": {},
   "outputs": [],
   "source": [
    "train_loader = utils.create_data_loader('batches/train', batch_size=1, shuffle=True)\n",
    "val_loader = utils.create_data_loader('batches/validation', batch_size=1, shuffle=False)\n",
    "\n",
    "train_loader_augment = utils.create_data_loader('batches_augment/train', batch_size=1, shuffle=True)\n",
    "val_loader_augment = utils.create_data_loader('batches_augment/validation', batch_size=1, shuffle=False)"
   ]
  },
  {
   "cell_type": "code",
   "execution_count": null,
   "metadata": {},
   "outputs": [],
   "source": [
    "train_losses, train_accuracies, val_losses, val_accuracies = utils.train_classification(model, criterion, optimizer, 50, [train_loader], val_loader)"
   ]
  },
  {
   "cell_type": "code",
   "execution_count": null,
   "metadata": {},
   "outputs": [],
   "source": [
    "utils.plot_classification(train_losses, train_accuracies, val_losses, val_accuracies, label='No Augment')"
   ]
  },
  {
   "cell_type": "code",
   "execution_count": null,
   "metadata": {},
   "outputs": [],
   "source": [
    "model = ERecogClassifier(num_classes=num_classes)\n",
    "optimizer = optim.Adam(model.parameters(), lr=5e-4)\n",
    "num_epochs = 30\n",
    "\n",
    "train_losses, train_accuracies, _, _ = utils.train_classification(model, criterion, optimizer, num_epochs, [train_loader, val_loader], None)"
   ]
  },
  {
   "cell_type": "code",
   "execution_count": null,
   "metadata": {},
   "outputs": [],
   "source": [
    "os.makedirs(os.path.dirname('models'), exist_ok=True)\n",
    "\n",
    "with open('models/noaugment.model.pickle','wb') as model_file:\n",
    "     pickle.dump(model, model_file)\n",
    "\n",
    "os.makedirs(os.path.dirname('results'), exist_ok=True)\n",
    "\n",
    "np.save('results/train_loss', train_losses)\n",
    "np.save('results/train_accuracies', train_accuracies)"
   ]
  },
  {
   "cell_type": "code",
   "execution_count": null,
   "metadata": {},
   "outputs": [],
   "source": [
    "model = ERecogClassifier(num_classes=num_classes)\n",
    "optimizer = optim.Adam(model.parameters(), lr=5e-4)"
   ]
  },
  {
   "cell_type": "code",
   "execution_count": null,
   "metadata": {},
   "outputs": [],
   "source": [
    "train_losses, train_accuracies, val_losses, val_accuracies = utils.train_classification(model, criterion, optimizer, 50, [train_loader_augment], val_loader_augment)"
   ]
  },
  {
   "cell_type": "code",
   "execution_count": null,
   "metadata": {},
   "outputs": [],
   "source": [
    "utils.plot_classification(train_losses, train_accuracies, val_losses, val_accuracies, label='Augment')"
   ]
  },
  {
   "cell_type": "code",
   "execution_count": null,
   "metadata": {},
   "outputs": [],
   "source": [
    "model = ERecogClassifier(num_classes=num_classes)\n",
    "optimizer = optim.Adam(model.parameters(), lr=5e-4)\n",
    "num_epochs = 30\n",
    "\n",
    "train_losses, train_accuracies, _, _ = utils.train_classification(model, criterion, optimizer, num_epochs, [train_loader_augment, val_loader_augment], None)"
   ]
  },
  {
   "cell_type": "code",
   "execution_count": null,
   "metadata": {},
   "outputs": [],
   "source": [
    "with open('models/augment.model.pickle','wb') as model_file:\n",
    "     pickle.dump(model, model_file)\n",
    "\n",
    "\n",
    "np.save('results/augment_train_loss', train_losses)\n",
    "np.save('results/augment_train_accuracies', train_accuracies)"
   ]
  }
 ],
 "metadata": {
  "language_info": {
   "name": "python"
  }
 },
 "nbformat": 4,
 "nbformat_minor": 2
}
